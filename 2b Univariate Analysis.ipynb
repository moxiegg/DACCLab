{
 "cells": [
  {
   "cell_type": "code",
   "execution_count": 17,
   "id": "50024e2c",
   "metadata": {},
   "outputs": [],
   "source": [
    "import numpy as np\n",
    "import pandas as pd\n",
    "df= pd.read_csv(\"aug_train.csv\")\n",
    "df= df.drop(['enrollee_id'], axis= 1)\n",
    "unspecified_cols= ['gender', 'major_discipline', 'company_type']\n",
    "df[unspecified_cols]= df[unspecified_cols].fillna(\"Unspecified\")\n",
    "df['city']= df['city'].apply(lambda c: int(c[5:]))\n",
    "df=df.dropna()"
   ]
  },
  {
   "cell_type": "code",
   "execution_count": 18,
   "id": "5e36d8fb",
   "metadata": {},
   "outputs": [
    {
     "data": {
      "text/plain": [
       "0.8374400976070526"
      ]
     },
     "execution_count": 18,
     "metadata": {},
     "output_type": "execute_result"
    }
   ],
   "source": [
    "df['city_development_index'].mean()\n",
    "# df['city_development_index'].variance()"
   ]
  },
  {
   "cell_type": "code",
   "execution_count": 19,
   "id": "7f973867",
   "metadata": {},
   "outputs": [
    {
     "data": {
      "text/plain": [
       "0.91"
      ]
     },
     "execution_count": 19,
     "metadata": {},
     "output_type": "execute_result"
    }
   ],
   "source": [
    "df['city_development_index'].median()"
   ]
  },
  {
   "cell_type": "code",
   "execution_count": 20,
   "id": "99f940f0",
   "metadata": {},
   "outputs": [
    {
     "data": {
      "text/plain": [
       "0    0.92\n",
       "dtype: float64"
      ]
     },
     "execution_count": 20,
     "metadata": {},
     "output_type": "execute_result"
    }
   ],
   "source": [
    "df['city_development_index'].mode()"
   ]
  },
  {
   "cell_type": "code",
   "execution_count": 21,
   "id": "eecac948",
   "metadata": {},
   "outputs": [
    {
     "data": {
      "text/plain": [
       "0.11956022515342182"
      ]
     },
     "execution_count": 21,
     "metadata": {},
     "output_type": "execute_result"
    }
   ],
   "source": [
    "df['city_development_index'].std()"
   ]
  },
  {
   "cell_type": "code",
   "execution_count": 23,
   "id": "554a13d1",
   "metadata": {},
   "outputs": [
    {
     "data": {
      "text/plain": [
       "0.014294647438736919"
      ]
     },
     "execution_count": 23,
     "metadata": {},
     "output_type": "execute_result"
    }
   ],
   "source": [
    "df['city_development_index'].var()"
   ]
  },
  {
   "cell_type": "code",
   "execution_count": 24,
   "id": "db8954b8",
   "metadata": {},
   "outputs": [
    {
     "data": {
      "text/plain": [
       "Graduate          8190\n",
       "Masters           3307\n",
       "High School        828\n",
       "Phd                317\n",
       "Primary School      62\n",
       "Name: education_level, dtype: int64"
      ]
     },
     "execution_count": 24,
     "metadata": {},
     "output_type": "execute_result"
    }
   ],
   "source": [
    "df['education_level'].value_counts()"
   ]
  },
  {
   "cell_type": "code",
   "execution_count": 26,
   "id": "3bdd2004",
   "metadata": {},
   "outputs": [
    {
     "data": {
      "text/plain": [
       "array([[<AxesSubplot:title={'center':'city_development_index'}>]],\n",
       "      dtype=object)"
      ]
     },
     "execution_count": 26,
     "metadata": {},
     "output_type": "execute_result"
    },
    {
     "data": {
      "image/png": "[encoded data removed]",
      "text/plain": [
       "<Figure size 432x288 with 1 Axes>"
      ]
     },
     "metadata": {
      "needs_background": "light"
     },
     "output_type": "display_data"
    }
   ],
   "source": [
    "df.hist(column='city_development_index',grid=False)"
   ]
  },
  {
   "cell_type": "code",
   "execution_count": 28,
   "id": "4deb1b10",
   "metadata": {},
   "outputs": [
    {
     "data": {
      "text/plain": [
       "<AxesSubplot:xlabel='city_development_index', ylabel='Density'>"
      ]
     },
     "execution_count": 28,
     "metadata": {},
     "output_type": "execute_result"
    },
    {
     "data": {
      "image/png": "[encoded data removed]",
      "text/plain": [
       "<Figure size 432x288 with 1 Axes>"
      ]
     },
     "metadata": {
      "needs_background": "light"
     },
     "output_type": "display_data"
    }
   ],
   "source": [
    "import seaborn as sns\n",
    "sns.kdeplot(df['city_development_index'])"
   ]
  },
  {
   "cell_type": "code",
   "execution_count": 31,
   "id": "4256b93a",
   "metadata": {},
   "outputs": [
    {
     "data": {
      "text/plain": [
       "Text(0, 0.5, 'Count')"
      ]
     },
     "execution_count": 31,
     "metadata": {},
     "output_type": "execute_result"
    },
    {
     "data": {
      "image/png": "[encoded data removed]",
      "text/plain": [
       "<Figure size 432x288 with 1 Axes>"
      ]
     },
     "metadata": {
      "needs_background": "light"
     },
     "output_type": "display_data"
    }
   ],
   "source": [
    "import matplotlib.pyplot as plt\n",
    "df['gender'].value_counts().plot.bar()\n",
    "plt.xlabel('Gender')\n",
    "plt.ylabel('Count')"
   ]
  },
  {
   "cell_type": "code",
   "execution_count": 33,
   "id": "f54645f5",
   "metadata": {},
   "outputs": [
    {
     "data": {
      "text/plain": [
       "([<matplotlib.patches.Wedge at 0x7f51f21d90a0>,\n",
       "  <matplotlib.patches.Wedge at 0x7f51f21d9850>,\n",
       "  <matplotlib.patches.Wedge at 0x7f51f21d9fa0>,\n",
       "  <matplotlib.patches.Wedge at 0x7f51f21e7730>],\n",
       " [Text(-0.6980429258896738, 0.8501388554909037, 'Male'),\n",
       "  Text(0.4694498910445311, -0.9947948531221289, 'Unspecified'),\n",
       "  Text(1.0592600907823007, -0.2965940998669268, 'Female'),\n",
       "  Text(1.099614947923104, -0.029102685513014724, 'Other')])"
      ]
     },
     "execution_count": 33,
     "metadata": {},
     "output_type": "execute_result"
    },
    {
     "data": {
      "image/png": "[encoded data removed]",
      "text/plain": [
       "<Figure size 432x288 with 1 Axes>"
      ]
     },
     "metadata": {},
     "output_type": "display_data"
    }
   ],
   "source": [
    "plt.pie(df['gender'].value_counts(),labels=['Male','Unspecified','Female','Other'],shadow=True)"
   ]
  },
  {
   "cell_type": "code",
   "execution_count": null,
   "id": "27d09d89",
   "metadata": {},
   "outputs": [],
   "source": []
  }
 ],
 "metadata": {
  "kernelspec": {
   "display_name": "Python 3 (ipykernel)",
   "language": "python",
   "name": "python3"
  },
  "language_info": {
   "codemirror_mode": {
    "name": "ipython",
    "version": 3
   },
   "file_extension": ".py",
   "mimetype": "text/x-python",
   "name": "python",
   "nbconvert_exporter": "python",
   "pygments_lexer": "ipython3",
   "version": "3.9.7"
  }
 },
 "nbformat": 4,
 "nbformat_minor": 5
}
