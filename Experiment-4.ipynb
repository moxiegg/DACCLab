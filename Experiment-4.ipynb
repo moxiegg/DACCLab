{
 "cells": [
  {
   "cell_type": "markdown",
   "id": "c767bba0",
   "metadata": {},
   "source": [
    "<pre>Experiment No         : 4\n",
    "Date                  : 15/02/2023</pre>\n",
    "# <center>Support Vector Machines (SVMs)</center>"
   ]
  },
  {
   "cell_type": "markdown",
   "id": "250dea74",
   "metadata": {},
   "source": [
    "### Importing the required packages and reading the dataset"
   ]
  },
  {
   "cell_type": "code",
   "execution_count": 1,
   "id": "0aac6f71",
   "metadata": {},
   "outputs": [],
   "source": [
    "import numpy as np\n",
    "import pandas as pd\n",
    "data= pd.read_csv(\"res/aug_train.csv\")"
   ]
  },
  {
   "cell_type": "markdown",
   "id": "8665eb77",
   "metadata": {},
   "source": [
    "### Performing minimal preprocessing"
   ]
  },
  {
   "cell_type": "code",
   "execution_count": 2,
   "id": "2a2ace4f",
   "metadata": {},
   "outputs": [],
   "source": [
    "data.drop(['enrollee_id','company_size'], axis= 1, inplace= True)\n",
    "data['city']= data['city'].apply(lambda c: int(c[5:]))\n",
    "data.dropna(inplace= True)\n",
    "data['gender'].replace({'Male': 0, 'Female': 1, 'Other': 2}, inplace= True)\n",
    "data['relevent_experience'].replace({'No relevent experience': 0, 'Has relevent experience': 1}, inplace= True)\n",
    "data['enrolled_university'].replace({'no_enrollment': 0, 'Part time course': 1, 'Full time course': 2}, inplace= True)\n",
    "data['education_level'].replace({'Graduate': 0, 'Masters': 1, 'Phd': 2}, inplace= True)\n",
    "data['major_discipline'].replace({'STEM': 0, 'Humanities': 1, 'Business Degree': 2, 'Other': 3, 'No Major': 4, 'Arts': 5}, inplace= True)\n",
    "data['experience'].replace({'>20': '21', '<1': '0'}, inplace= True)\n",
    "data['experience']= pd.to_numeric(data['experience'])\n",
    "data['company_type'].replace({'Pvt Ltd': 0, 'Funded Startup': 1, 'Early Stage Startup': 2, 'Public Sector': 3, 'NGO': 4, 'Other': 5}, inplace= True)\n",
    "data['last_new_job'].replace({'>4': '5', 'never': '0'}, inplace= True)\n",
    "data['last_new_job']= pd.to_numeric(data['last_new_job'])"
   ]
  },
  {
   "cell_type": "markdown",
   "id": "098608ff",
   "metadata": {},
   "source": [
    "### Final Processed Dataset"
   ]
  },
  {
   "cell_type": "code",
   "execution_count": 3,
   "id": "cf76a529",
   "metadata": {},
   "outputs": [
    {
     "name": "stdout",
     "output_type": "stream",
     "text": [
      "<class 'pandas.core.frame.DataFrame'>\n",
      "Int64Index: 9238 entries, 1 to 19155\n",
      "Data columns (total 12 columns):\n",
      " #   Column                  Non-Null Count  Dtype  \n",
      "---  ------                  --------------  -----  \n",
      " 0   city                    9238 non-null   int64  \n",
      " 1   city_development_index  9238 non-null   float64\n",
      " 2   gender                  9238 non-null   int64  \n",
      " 3   relevent_experience     9238 non-null   int64  \n",
      " 4   enrolled_university     9238 non-null   int64  \n",
      " 5   education_level         9238 non-null   int64  \n",
      " 6   major_discipline        9238 non-null   int64  \n",
      " 7   experience              9238 non-null   int64  \n",
      " 8   company_type            9238 non-null   int64  \n",
      " 9   last_new_job            9238 non-null   int64  \n",
      " 10  training_hours          9238 non-null   int64  \n",
      " 11  target                  9238 non-null   float64\n",
      "dtypes: float64(2), int64(10)\n",
      "memory usage: 938.2 KB\n"
     ]
    }
   ],
   "source": [
    "data.info()"
   ]
  },
  {
   "cell_type": "code",
   "execution_count": 4,
   "id": "39c15794",
   "metadata": {},
   "outputs": [
    {
     "data": {
      "text/html": [
       "<div>\n",
       "<style scoped>\n",
       "    .dataframe tbody tr th:only-of-type {\n",
       "        vertical-align: middle;\n",
       "    }\n",
       "\n",
       "    .dataframe tbody tr th {\n",
       "        vertical-align: top;\n",
       "    }\n",
       "\n",
       "    .dataframe thead th {\n",
       "        text-align: right;\n",
       "    }\n",
       "</style>\n",
       "<table border=\"1\" class=\"dataframe\">\n",
       "  <thead>\n",
       "    <tr style=\"text-align: right;\">\n",
       "      <th></th>\n",
       "      <th>city</th>\n",
       "      <th>city_development_index</th>\n",
       "      <th>gender</th>\n",
       "      <th>relevent_experience</th>\n",
       "      <th>enrolled_university</th>\n",
       "      <th>education_level</th>\n",
       "      <th>major_discipline</th>\n",
       "      <th>experience</th>\n",
       "      <th>company_type</th>\n",
       "      <th>last_new_job</th>\n",
       "      <th>training_hours</th>\n",
       "      <th>target</th>\n",
       "    </tr>\n",
       "  </thead>\n",
       "  <tbody>\n",
       "    <tr>\n",
       "      <th>1</th>\n",
       "      <td>40</td>\n",
       "      <td>0.776</td>\n",
       "      <td>0</td>\n",
       "      <td>0</td>\n",
       "      <td>0</td>\n",
       "      <td>0</td>\n",
       "      <td>0</td>\n",
       "      <td>15</td>\n",
       "      <td>0</td>\n",
       "      <td>5</td>\n",
       "      <td>47</td>\n",
       "      <td>0.0</td>\n",
       "    </tr>\n",
       "    <tr>\n",
       "      <th>4</th>\n",
       "      <td>162</td>\n",
       "      <td>0.767</td>\n",
       "      <td>0</td>\n",
       "      <td>1</td>\n",
       "      <td>0</td>\n",
       "      <td>1</td>\n",
       "      <td>0</td>\n",
       "      <td>21</td>\n",
       "      <td>1</td>\n",
       "      <td>4</td>\n",
       "      <td>8</td>\n",
       "      <td>0.0</td>\n",
       "    </tr>\n",
       "    <tr>\n",
       "      <th>7</th>\n",
       "      <td>46</td>\n",
       "      <td>0.762</td>\n",
       "      <td>0</td>\n",
       "      <td>1</td>\n",
       "      <td>0</td>\n",
       "      <td>0</td>\n",
       "      <td>0</td>\n",
       "      <td>13</td>\n",
       "      <td>0</td>\n",
       "      <td>5</td>\n",
       "      <td>18</td>\n",
       "      <td>1.0</td>\n",
       "    </tr>\n",
       "    <tr>\n",
       "      <th>8</th>\n",
       "      <td>103</td>\n",
       "      <td>0.920</td>\n",
       "      <td>0</td>\n",
       "      <td>1</td>\n",
       "      <td>0</td>\n",
       "      <td>0</td>\n",
       "      <td>0</td>\n",
       "      <td>7</td>\n",
       "      <td>0</td>\n",
       "      <td>1</td>\n",
       "      <td>46</td>\n",
       "      <td>1.0</td>\n",
       "    </tr>\n",
       "    <tr>\n",
       "      <th>11</th>\n",
       "      <td>103</td>\n",
       "      <td>0.920</td>\n",
       "      <td>0</td>\n",
       "      <td>1</td>\n",
       "      <td>0</td>\n",
       "      <td>0</td>\n",
       "      <td>0</td>\n",
       "      <td>5</td>\n",
       "      <td>0</td>\n",
       "      <td>1</td>\n",
       "      <td>108</td>\n",
       "      <td>0.0</td>\n",
       "    </tr>\n",
       "    <tr>\n",
       "      <th>...</th>\n",
       "      <td>...</td>\n",
       "      <td>...</td>\n",
       "      <td>...</td>\n",
       "      <td>...</td>\n",
       "      <td>...</td>\n",
       "      <td>...</td>\n",
       "      <td>...</td>\n",
       "      <td>...</td>\n",
       "      <td>...</td>\n",
       "      <td>...</td>\n",
       "      <td>...</td>\n",
       "      <td>...</td>\n",
       "    </tr>\n",
       "    <tr>\n",
       "      <th>19147</th>\n",
       "      <td>21</td>\n",
       "      <td>0.624</td>\n",
       "      <td>0</td>\n",
       "      <td>0</td>\n",
       "      <td>2</td>\n",
       "      <td>0</td>\n",
       "      <td>0</td>\n",
       "      <td>1</td>\n",
       "      <td>0</td>\n",
       "      <td>1</td>\n",
       "      <td>52</td>\n",
       "      <td>1.0</td>\n",
       "    </tr>\n",
       "    <tr>\n",
       "      <th>19149</th>\n",
       "      <td>103</td>\n",
       "      <td>0.920</td>\n",
       "      <td>0</td>\n",
       "      <td>1</td>\n",
       "      <td>0</td>\n",
       "      <td>1</td>\n",
       "      <td>0</td>\n",
       "      <td>9</td>\n",
       "      <td>0</td>\n",
       "      <td>1</td>\n",
       "      <td>36</td>\n",
       "      <td>1.0</td>\n",
       "    </tr>\n",
       "    <tr>\n",
       "      <th>19150</th>\n",
       "      <td>160</td>\n",
       "      <td>0.920</td>\n",
       "      <td>1</td>\n",
       "      <td>1</td>\n",
       "      <td>0</td>\n",
       "      <td>0</td>\n",
       "      <td>0</td>\n",
       "      <td>10</td>\n",
       "      <td>3</td>\n",
       "      <td>3</td>\n",
       "      <td>23</td>\n",
       "      <td>0.0</td>\n",
       "    </tr>\n",
       "    <tr>\n",
       "      <th>19152</th>\n",
       "      <td>103</td>\n",
       "      <td>0.920</td>\n",
       "      <td>1</td>\n",
       "      <td>1</td>\n",
       "      <td>0</td>\n",
       "      <td>0</td>\n",
       "      <td>1</td>\n",
       "      <td>7</td>\n",
       "      <td>1</td>\n",
       "      <td>1</td>\n",
       "      <td>25</td>\n",
       "      <td>0.0</td>\n",
       "    </tr>\n",
       "    <tr>\n",
       "      <th>19155</th>\n",
       "      <td>103</td>\n",
       "      <td>0.920</td>\n",
       "      <td>0</td>\n",
       "      <td>1</td>\n",
       "      <td>0</td>\n",
       "      <td>0</td>\n",
       "      <td>0</td>\n",
       "      <td>21</td>\n",
       "      <td>0</td>\n",
       "      <td>4</td>\n",
       "      <td>44</td>\n",
       "      <td>0.0</td>\n",
       "    </tr>\n",
       "  </tbody>\n",
       "</table>\n",
       "<p>9238 rows × 12 columns</p>\n",
       "</div>"
      ],
      "text/plain": [
       "       city  city_development_index  gender  relevent_experience  \\\n",
       "1        40                   0.776       0                    0   \n",
       "4       162                   0.767       0                    1   \n",
       "7        46                   0.762       0                    1   \n",
       "8       103                   0.920       0                    1   \n",
       "11      103                   0.920       0                    1   \n",
       "...     ...                     ...     ...                  ...   \n",
       "19147    21                   0.624       0                    0   \n",
       "19149   103                   0.920       0                    1   \n",
       "19150   160                   0.920       1                    1   \n",
       "19152   103                   0.920       1                    1   \n",
       "19155   103                   0.920       0                    1   \n",
       "\n",
       "       enrolled_university  education_level  major_discipline  experience  \\\n",
       "1                        0                0                 0          15   \n",
       "4                        0                1                 0          21   \n",
       "7                        0                0                 0          13   \n",
       "8                        0                0                 0           7   \n",
       "11                       0                0                 0           5   \n",
       "...                    ...              ...               ...         ...   \n",
       "19147                    2                0                 0           1   \n",
       "19149                    0                1                 0           9   \n",
       "19150                    0                0                 0          10   \n",
       "19152                    0                0                 1           7   \n",
       "19155                    0                0                 0          21   \n",
       "\n",
       "       company_type  last_new_job  training_hours  target  \n",
       "1                 0             5              47     0.0  \n",
       "4                 1             4               8     0.0  \n",
       "7                 0             5              18     1.0  \n",
       "8                 0             1              46     1.0  \n",
       "11                0             1             108     0.0  \n",
       "...             ...           ...             ...     ...  \n",
       "19147             0             1              52     1.0  \n",
       "19149             0             1              36     1.0  \n",
       "19150             3             3              23     0.0  \n",
       "19152             1             1              25     0.0  \n",
       "19155             0             4              44     0.0  \n",
       "\n",
       "[9238 rows x 12 columns]"
      ]
     },
     "execution_count": 4,
     "metadata": {},
     "output_type": "execute_result"
    }
   ],
   "source": [
    "data"
   ]
  },
  {
   "cell_type": "markdown",
   "id": "25747fcb",
   "metadata": {},
   "source": [
    "### Preparing Data\n",
    "#### Apply MinMax Scaling"
   ]
  },
  {
   "cell_type": "code",
   "execution_count": 5,
   "id": "b874a279",
   "metadata": {},
   "outputs": [
    {
     "name": "stdout",
     "output_type": "stream",
     "text": [
      "<class 'pandas.core.frame.DataFrame'>\n",
      "RangeIndex: 9238 entries, 0 to 9237\n",
      "Data columns (total 12 columns):\n",
      " #   Column                  Non-Null Count  Dtype  \n",
      "---  ------                  --------------  -----  \n",
      " 0   city                    9238 non-null   float64\n",
      " 1   city_development_index  9238 non-null   float64\n",
      " 2   gender                  9238 non-null   float64\n",
      " 3   relevent_experience     9238 non-null   float64\n",
      " 4   enrolled_university     9238 non-null   float64\n",
      " 5   education_level         9238 non-null   float64\n",
      " 6   major_discipline        9238 non-null   float64\n",
      " 7   experience              9238 non-null   float64\n",
      " 8   company_type            9238 non-null   float64\n",
      " 9   last_new_job            9238 non-null   float64\n",
      " 10  training_hours          9238 non-null   float64\n",
      " 11  target                  9238 non-null   float64\n",
      "dtypes: float64(12)\n",
      "memory usage: 866.2 KB\n"
     ]
    }
   ],
   "source": [
    "from sklearn import preprocessing\n",
    "from sklearn.preprocessing import MinMaxScaler\n",
    "scaler = MinMaxScaler()\n",
    "scaled = scaler.fit_transform(data)\n",
    "encD = pd.DataFrame(scaled, columns= data.columns)\n",
    "encD.info()"
   ]
  },
  {
   "cell_type": "code",
   "execution_count": 6,
   "id": "ebfc8e91",
   "metadata": {},
   "outputs": [
    {
     "data": {
      "text/html": [
       "<div>\n",
       "<style scoped>\n",
       "    .dataframe tbody tr th:only-of-type {\n",
       "        vertical-align: middle;\n",
       "    }\n",
       "\n",
       "    .dataframe tbody tr th {\n",
       "        vertical-align: top;\n",
       "    }\n",
       "\n",
       "    .dataframe thead th {\n",
       "        text-align: right;\n",
       "    }\n",
       "</style>\n",
       "<table border=\"1\" class=\"dataframe\">\n",
       "  <thead>\n",
       "    <tr style=\"text-align: right;\">\n",
       "      <th></th>\n",
       "      <th>city</th>\n",
       "      <th>city_development_index</th>\n",
       "      <th>gender</th>\n",
       "      <th>relevent_experience</th>\n",
       "      <th>enrolled_university</th>\n",
       "      <th>education_level</th>\n",
       "      <th>major_discipline</th>\n",
       "      <th>experience</th>\n",
       "      <th>company_type</th>\n",
       "      <th>last_new_job</th>\n",
       "      <th>training_hours</th>\n",
       "      <th>target</th>\n",
       "    </tr>\n",
       "  </thead>\n",
       "  <tbody>\n",
       "    <tr>\n",
       "      <th>0</th>\n",
       "      <td>0.219101</td>\n",
       "      <td>0.654691</td>\n",
       "      <td>0.0</td>\n",
       "      <td>0.0</td>\n",
       "      <td>0.0</td>\n",
       "      <td>0.0</td>\n",
       "      <td>0.0</td>\n",
       "      <td>0.714286</td>\n",
       "      <td>0.0</td>\n",
       "      <td>1.0</td>\n",
       "      <td>0.137313</td>\n",
       "      <td>0.0</td>\n",
       "    </tr>\n",
       "    <tr>\n",
       "      <th>1</th>\n",
       "      <td>0.904494</td>\n",
       "      <td>0.636727</td>\n",
       "      <td>0.0</td>\n",
       "      <td>1.0</td>\n",
       "      <td>0.0</td>\n",
       "      <td>0.5</td>\n",
       "      <td>0.0</td>\n",
       "      <td>1.000000</td>\n",
       "      <td>0.2</td>\n",
       "      <td>0.8</td>\n",
       "      <td>0.020896</td>\n",
       "      <td>0.0</td>\n",
       "    </tr>\n",
       "    <tr>\n",
       "      <th>2</th>\n",
       "      <td>0.252809</td>\n",
       "      <td>0.626747</td>\n",
       "      <td>0.0</td>\n",
       "      <td>1.0</td>\n",
       "      <td>0.0</td>\n",
       "      <td>0.0</td>\n",
       "      <td>0.0</td>\n",
       "      <td>0.619048</td>\n",
       "      <td>0.0</td>\n",
       "      <td>1.0</td>\n",
       "      <td>0.050746</td>\n",
       "      <td>1.0</td>\n",
       "    </tr>\n",
       "    <tr>\n",
       "      <th>3</th>\n",
       "      <td>0.573034</td>\n",
       "      <td>0.942116</td>\n",
       "      <td>0.0</td>\n",
       "      <td>1.0</td>\n",
       "      <td>0.0</td>\n",
       "      <td>0.0</td>\n",
       "      <td>0.0</td>\n",
       "      <td>0.333333</td>\n",
       "      <td>0.0</td>\n",
       "      <td>0.2</td>\n",
       "      <td>0.134328</td>\n",
       "      <td>1.0</td>\n",
       "    </tr>\n",
       "    <tr>\n",
       "      <th>4</th>\n",
       "      <td>0.573034</td>\n",
       "      <td>0.942116</td>\n",
       "      <td>0.0</td>\n",
       "      <td>1.0</td>\n",
       "      <td>0.0</td>\n",
       "      <td>0.0</td>\n",
       "      <td>0.0</td>\n",
       "      <td>0.238095</td>\n",
       "      <td>0.0</td>\n",
       "      <td>0.2</td>\n",
       "      <td>0.319403</td>\n",
       "      <td>0.0</td>\n",
       "    </tr>\n",
       "    <tr>\n",
       "      <th>...</th>\n",
       "      <td>...</td>\n",
       "      <td>...</td>\n",
       "      <td>...</td>\n",
       "      <td>...</td>\n",
       "      <td>...</td>\n",
       "      <td>...</td>\n",
       "      <td>...</td>\n",
       "      <td>...</td>\n",
       "      <td>...</td>\n",
       "      <td>...</td>\n",
       "      <td>...</td>\n",
       "      <td>...</td>\n",
       "    </tr>\n",
       "    <tr>\n",
       "      <th>9233</th>\n",
       "      <td>0.112360</td>\n",
       "      <td>0.351297</td>\n",
       "      <td>0.0</td>\n",
       "      <td>0.0</td>\n",
       "      <td>1.0</td>\n",
       "      <td>0.0</td>\n",
       "      <td>0.0</td>\n",
       "      <td>0.047619</td>\n",
       "      <td>0.0</td>\n",
       "      <td>0.2</td>\n",
       "      <td>0.152239</td>\n",
       "      <td>1.0</td>\n",
       "    </tr>\n",
       "    <tr>\n",
       "      <th>9234</th>\n",
       "      <td>0.573034</td>\n",
       "      <td>0.942116</td>\n",
       "      <td>0.0</td>\n",
       "      <td>1.0</td>\n",
       "      <td>0.0</td>\n",
       "      <td>0.5</td>\n",
       "      <td>0.0</td>\n",
       "      <td>0.428571</td>\n",
       "      <td>0.0</td>\n",
       "      <td>0.2</td>\n",
       "      <td>0.104478</td>\n",
       "      <td>1.0</td>\n",
       "    </tr>\n",
       "    <tr>\n",
       "      <th>9235</th>\n",
       "      <td>0.893258</td>\n",
       "      <td>0.942116</td>\n",
       "      <td>0.5</td>\n",
       "      <td>1.0</td>\n",
       "      <td>0.0</td>\n",
       "      <td>0.0</td>\n",
       "      <td>0.0</td>\n",
       "      <td>0.476190</td>\n",
       "      <td>0.6</td>\n",
       "      <td>0.6</td>\n",
       "      <td>0.065672</td>\n",
       "      <td>0.0</td>\n",
       "    </tr>\n",
       "    <tr>\n",
       "      <th>9236</th>\n",
       "      <td>0.573034</td>\n",
       "      <td>0.942116</td>\n",
       "      <td>0.5</td>\n",
       "      <td>1.0</td>\n",
       "      <td>0.0</td>\n",
       "      <td>0.0</td>\n",
       "      <td>0.2</td>\n",
       "      <td>0.333333</td>\n",
       "      <td>0.2</td>\n",
       "      <td>0.2</td>\n",
       "      <td>0.071642</td>\n",
       "      <td>0.0</td>\n",
       "    </tr>\n",
       "    <tr>\n",
       "      <th>9237</th>\n",
       "      <td>0.573034</td>\n",
       "      <td>0.942116</td>\n",
       "      <td>0.0</td>\n",
       "      <td>1.0</td>\n",
       "      <td>0.0</td>\n",
       "      <td>0.0</td>\n",
       "      <td>0.0</td>\n",
       "      <td>1.000000</td>\n",
       "      <td>0.0</td>\n",
       "      <td>0.8</td>\n",
       "      <td>0.128358</td>\n",
       "      <td>0.0</td>\n",
       "    </tr>\n",
       "  </tbody>\n",
       "</table>\n",
       "<p>9238 rows × 12 columns</p>\n",
       "</div>"
      ],
      "text/plain": [
       "          city  city_development_index  gender  relevent_experience  \\\n",
       "0     0.219101                0.654691     0.0                  0.0   \n",
       "1     0.904494                0.636727     0.0                  1.0   \n",
       "2     0.252809                0.626747     0.0                  1.0   \n",
       "3     0.573034                0.942116     0.0                  1.0   \n",
       "4     0.573034                0.942116     0.0                  1.0   \n",
       "...        ...                     ...     ...                  ...   \n",
       "9233  0.112360                0.351297     0.0                  0.0   \n",
       "9234  0.573034                0.942116     0.0                  1.0   \n",
       "9235  0.893258                0.942116     0.5                  1.0   \n",
       "9236  0.573034                0.942116     0.5                  1.0   \n",
       "9237  0.573034                0.942116     0.0                  1.0   \n",
       "\n",
       "      enrolled_university  education_level  major_discipline  experience  \\\n",
       "0                     0.0              0.0               0.0    0.714286   \n",
       "1                     0.0              0.5               0.0    1.000000   \n",
       "2                     0.0              0.0               0.0    0.619048   \n",
       "3                     0.0              0.0               0.0    0.333333   \n",
       "4                     0.0              0.0               0.0    0.238095   \n",
       "...                   ...              ...               ...         ...   \n",
       "9233                  1.0              0.0               0.0    0.047619   \n",
       "9234                  0.0              0.5               0.0    0.428571   \n",
       "9235                  0.0              0.0               0.0    0.476190   \n",
       "9236                  0.0              0.0               0.2    0.333333   \n",
       "9237                  0.0              0.0               0.0    1.000000   \n",
       "\n",
       "      company_type  last_new_job  training_hours  target  \n",
       "0              0.0           1.0        0.137313     0.0  \n",
       "1              0.2           0.8        0.020896     0.0  \n",
       "2              0.0           1.0        0.050746     1.0  \n",
       "3              0.0           0.2        0.134328     1.0  \n",
       "4              0.0           0.2        0.319403     0.0  \n",
       "...            ...           ...             ...     ...  \n",
       "9233           0.0           0.2        0.152239     1.0  \n",
       "9234           0.0           0.2        0.104478     1.0  \n",
       "9235           0.6           0.6        0.065672     0.0  \n",
       "9236           0.2           0.2        0.071642     0.0  \n",
       "9237           0.0           0.8        0.128358     0.0  \n",
       "\n",
       "[9238 rows x 12 columns]"
      ]
     },
     "execution_count": 6,
     "metadata": {},
     "output_type": "execute_result"
    }
   ],
   "source": [
    "encD"
   ]
  },
  {
   "cell_type": "markdown",
   "id": "16e9a609",
   "metadata": {},
   "source": [
    "#### Splitting the dataset into input and target attributes"
   ]
  },
  {
   "cell_type": "code",
   "execution_count": 7,
   "id": "66f82ae7",
   "metadata": {
    "scrolled": false
   },
   "outputs": [],
   "source": [
    "cols=['city_development_index', 'gender', 'relevent_experience', 'enrolled_university', 'major_discipline', 'experience', 'company_type', 'last_new_job', 'training_hours']\n",
    "X=encD[cols]\n",
    "y=encD['target']"
   ]
  },
  {
   "cell_type": "markdown",
   "id": "bf5d8912",
   "metadata": {},
   "source": [
    "#### Splitting the dataset into training and test sets"
   ]
  },
  {
   "cell_type": "code",
   "execution_count": 8,
   "id": "2c43a69e",
   "metadata": {},
   "outputs": [],
   "source": [
    "#Split into train and test set\n",
    "from sklearn.model_selection import train_test_split \n",
    "X_train, X_test, y_train, y_test = train_test_split(X, y, test_size=0.2, random_state=40) "
   ]
  },
  {
   "cell_type": "markdown",
   "id": "4899a754",
   "metadata": {},
   "source": [
    "### Modelling with default hyperparameters"
   ]
  },
  {
   "cell_type": "code",
   "execution_count": 9,
   "id": "296f49d7",
   "metadata": {},
   "outputs": [
    {
     "name": "stdout",
     "output_type": "stream",
     "text": [
      "Model accuracy score (default): 0.8420\n"
     ]
    }
   ],
   "source": [
    "from sklearn.svm import SVC\n",
    "from sklearn.metrics import accuracy_score \n",
    "\n",
    "svc=SVC()\n",
    "\n",
    "svc.fit(X_train,y_train) \n",
    "y_pred=svc.predict(X_test) \n",
    "\n",
    "print(f'Model accuracy score (default): {accuracy_score(y_test, y_pred):0.4f}') "
   ]
  },
  {
   "cell_type": "markdown",
   "id": "5e1f04c2",
   "metadata": {},
   "source": [
    "### Modelling with RBF Kernel and `C=100.0`"
   ]
  },
  {
   "cell_type": "code",
   "execution_count": 10,
   "id": "fdcdf17b",
   "metadata": {},
   "outputs": [
    {
     "name": "stdout",
     "output_type": "stream",
     "text": [
      "Model accuracy score (RBF kernel, C=100.0) : 0.8463\n"
     ]
    }
   ],
   "source": [
    "svc=SVC(C=100.0) \n",
    "\n",
    "svc.fit(X_train,y_train) \n",
    "y_pred=svc.predict(X_test) \n",
    "\n",
    "print(f'Model accuracy score (RBF kernel, C=100.0) : {accuracy_score(y_test, y_pred):0.4f}') "
   ]
  },
  {
   "cell_type": "markdown",
   "id": "4c7a2cb4",
   "metadata": {},
   "source": [
    "### Modelling with Linear Kernel and `C=1.0`"
   ]
  },
  {
   "cell_type": "code",
   "execution_count": 11,
   "id": "0776b9d7",
   "metadata": {},
   "outputs": [
    {
     "name": "stdout",
     "output_type": "stream",
     "text": [
      "Model accuracy score with linear kernel and C=1.0 : 0.8328\n"
     ]
    }
   ],
   "source": [
    "linear_svc=SVC(kernel='linear', C=1.0) \n",
    "\n",
    "linear_svc.fit(X_train,y_train) \n",
    "y_pred_test=linear_svc.predict(X_test) \n",
    "\n",
    "print(f'Model accuracy score with linear kernel and C=1.0 : {accuracy_score(y_test, y_pred_test):0.4f}')"
   ]
  },
  {
   "cell_type": "markdown",
   "id": "2d5fd670",
   "metadata": {},
   "source": [
    "### Modelling with Sigmoid Kernel and `C=1.0`"
   ]
  },
  {
   "cell_type": "code",
   "execution_count": 12,
   "id": "2d82a154",
   "metadata": {},
   "outputs": [
    {
     "name": "stdout",
     "output_type": "stream",
     "text": [
      "Model accuracy score (sigmoid kernel, C=1.0) : 0.7143\n"
     ]
    }
   ],
   "source": [
    "sigmoid_svc=SVC(kernel='sigmoid', C=1.0) \n",
    "\n",
    "sigmoid_svc.fit(X_train,y_train) \n",
    "y_pred=sigmoid_svc.predict(X_test) \n",
    "\n",
    "print(f'Model accuracy score (sigmoid kernel, C=1.0) : {accuracy_score(y_test, y_pred):0.4f}') "
   ]
  },
  {
   "cell_type": "markdown",
   "id": "295db930",
   "metadata": {},
   "source": [
    "#### Analysing the model performance"
   ]
  },
  {
   "cell_type": "code",
   "execution_count": 13,
   "id": "3b8554db",
   "metadata": {
    "scrolled": true
   },
   "outputs": [
    {
     "name": "stdout",
     "output_type": "stream",
     "text": [
      "Mean Absolute Error of the model in training dataset: 0.13058186738836267\n",
      "Mean Absolute Error of the model in testing dataset : 0.2857142857142857\n",
      "\n",
      "The model is overfit\n"
     ]
    }
   ],
   "source": [
    "from sklearn.metrics import mean_absolute_error, confusion_matrix, ConfusionMatrixDisplay, classification_report\n",
    "\n",
    "y_train_pred = svc.predict(X_train)\n",
    "mae_train = mean_absolute_error(y_train, y_train_pred) \n",
    "mae_test = mean_absolute_error(y_test, y_pred) \n",
    "\n",
    "print(f\"Mean Absolute Error of the model in training dataset: {mae_train}\")\n",
    "print(f\"Mean Absolute Error of the model in testing dataset : {mae_test}\") \n",
    "\n",
    "if mae_train < mae_test:\n",
    "    print(\"\\nThe model is overfit\")\n",
    "else:\n",
    "    print(\"\\nThe model is underfit\")"
   ]
  },
  {
   "cell_type": "markdown",
   "id": "ab6988f8",
   "metadata": {},
   "source": [
    "##### Confusion Matrix"
   ]
  },
  {
   "cell_type": "code",
   "execution_count": 14,
   "id": "710fa7a9",
   "metadata": {},
   "outputs": [
    {
     "data": {
      "text/plain": [
       "array([[1289,  250],\n",
       "       [ 278,   31]])"
      ]
     },
     "execution_count": 14,
     "metadata": {},
     "output_type": "execute_result"
    }
   ],
   "source": [
    "confusion_matrix(y_test, y_pred)"
   ]
  },
  {
   "cell_type": "markdown",
   "id": "2581f6e1",
   "metadata": {},
   "source": [
    "##### Visualize Confusion Matrix"
   ]
  },
  {
   "cell_type": "code",
   "execution_count": 15,
   "id": "297d11cf",
   "metadata": {},
   "outputs": [
    {
     "data": {
      "text/plain": [
       "<sklearn.metrics._plot.confusion_matrix.ConfusionMatrixDisplay at 0x7fdfca0b29d0>"
      ]
     },
     "execution_count": 15,
     "metadata": {},
     "output_type": "execute_result"
    },
    {
     "data": {
      "image/png": "[encoded data removed]",
      "text/plain": [
       "<Figure size 432x288 with 2 Axes>"
      ]
     },
     "metadata": {
      "needs_background": "light"
     },
     "output_type": "display_data"
    }
   ],
   "source": [
    "ConfusionMatrixDisplay(confusion_matrix=confusion_matrix(y_test, y_pred, labels=svc.classes_), display_labels=svc.classes_).plot()"
   ]
  },
  {
   "cell_type": "markdown",
   "id": "cfdb6be2",
   "metadata": {},
   "source": [
    "##### Classification Report"
   ]
  },
  {
   "cell_type": "code",
   "execution_count": 16,
   "id": "c42b4de6",
   "metadata": {},
   "outputs": [
    {
     "name": "stdout",
     "output_type": "stream",
     "text": [
      "              precision    recall  f1-score   support\n",
      "\n",
      "         0.0       0.82      0.84      0.83      1539\n",
      "         1.0       0.11      0.10      0.11       309\n",
      "\n",
      "    accuracy                           0.71      1848\n",
      "   macro avg       0.47      0.47      0.47      1848\n",
      "weighted avg       0.70      0.71      0.71      1848\n",
      "\n"
     ]
    }
   ],
   "source": [
    "print(classification_report(y_test, y_pred)) "
   ]
  }
 ],
 "metadata": {
  "kernelspec": {
   "display_name": "Python 3 (ipykernel)",
   "language": "python",
   "name": "python3"
  },
  "language_info": {
   "codemirror_mode": {
    "name": "ipython",
    "version": 3
   },
   "file_extension": ".py",
   "mimetype": "text/x-python",
   "name": "python",
   "nbconvert_exporter": "python",
   "pygments_lexer": "ipython3",
   "version": "3.9.7"
  }
 },
 "nbformat": 4,
 "nbformat_minor": 5
}
